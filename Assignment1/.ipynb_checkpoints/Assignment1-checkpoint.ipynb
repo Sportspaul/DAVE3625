{
 "cells": [
  {
   "cell_type": "code",
   "execution_count": 3,
   "metadata": {},
   "outputs": [],
   "source": [
    "import pandas as panda"
   ]
  },
  {
   "cell_type": "code",
   "execution_count": 4,
   "metadata": {},
   "outputs": [],
   "source": [
    "from matplotlib import pyplot as plt"
   ]
  },
  {
   "cell_type": "code",
   "execution_count": 5,
   "metadata": {},
   "outputs": [],
   "source": [
    "#Reads the Ruter data from a csv file"
   ]
  },
  {
   "cell_type": "code",
   "execution_count": 6,
   "metadata": {},
   "outputs": [],
   "source": [
    "dataframe = panda.read_csv(\"Ruter_data.csv\", sep=';')"
   ]
  },
  {
   "cell_type": "code",
   "execution_count": 7,
   "metadata": {},
   "outputs": [],
   "source": [
    "#Printing the first five entries"
   ]
  },
  {
   "cell_type": "code",
   "execution_count": 8,
   "metadata": {},
   "outputs": [
    {
     "data": {
      "text/html": [
       "<div>\n",
       "<style scoped>\n",
       "    .dataframe tbody tr th:only-of-type {\n",
       "        vertical-align: middle;\n",
       "    }\n",
       "\n",
       "    .dataframe tbody tr th {\n",
       "        vertical-align: top;\n",
       "    }\n",
       "\n",
       "    .dataframe thead th {\n",
       "        text-align: right;\n",
       "    }\n",
       "</style>\n",
       "<table border=\"1\" class=\"dataframe\">\n",
       "  <thead>\n",
       "    <tr style=\"text-align: right;\">\n",
       "      <th></th>\n",
       "      <th>TurId</th>\n",
       "      <th>Dato</th>\n",
       "      <th>Fylke</th>\n",
       "      <th>Område</th>\n",
       "      <th>Kommune</th>\n",
       "      <th>Holdeplass_Fra</th>\n",
       "      <th>Holdeplass_Til</th>\n",
       "      <th>Linjetype</th>\n",
       "      <th>Linjefylke</th>\n",
       "      <th>Linjenavn</th>\n",
       "      <th>Linjeretning</th>\n",
       "      <th>Tidspunkt_Faktisk_Ankomst_Holdeplass_Fra</th>\n",
       "      <th>Tidspunkt_Faktisk_Avgang_Holdeplass_Fra</th>\n",
       "      <th>Tidspunkt_Planlagt_Ankomst_Holdeplass_Fra</th>\n",
       "      <th>Tidspunkt_Planlagt_Avgang_Holdeplass_Fra</th>\n",
       "      <th>Kjøretøy_Kapasitet</th>\n",
       "      <th>Passasjerer_Ombord</th>\n",
       "    </tr>\n",
       "  </thead>\n",
       "  <tbody>\n",
       "    <tr>\n",
       "      <th>0</th>\n",
       "      <td>15006-2020-08-10T10:24:00+02:00</td>\n",
       "      <td>10/08/2020</td>\n",
       "      <td>Viken</td>\n",
       "      <td>Vest</td>\n",
       "      <td>Bærum</td>\n",
       "      <td>Nordliveien</td>\n",
       "      <td>Tjernsmyr</td>\n",
       "      <td>Lokal</td>\n",
       "      <td>Viken</td>\n",
       "      <td>150</td>\n",
       "      <td>0</td>\n",
       "      <td>10:53:53</td>\n",
       "      <td>10:53:59</td>\n",
       "      <td>10:53:00</td>\n",
       "      <td>10:53:00</td>\n",
       "      <td>112</td>\n",
       "      <td>5</td>\n",
       "    </tr>\n",
       "    <tr>\n",
       "      <th>1</th>\n",
       "      <td>15002-2020-08-15T12:54:00+02:00</td>\n",
       "      <td>15/08/2020</td>\n",
       "      <td>Viken</td>\n",
       "      <td>Vest</td>\n",
       "      <td>Bærum</td>\n",
       "      <td>Nadderud stadion</td>\n",
       "      <td>Bekkestua bussterminal (Plattform C)</td>\n",
       "      <td>Lokal</td>\n",
       "      <td>Viken</td>\n",
       "      <td>150</td>\n",
       "      <td>0</td>\n",
       "      <td>13:12:20</td>\n",
       "      <td>13:12:26</td>\n",
       "      <td>13:12:00</td>\n",
       "      <td>13:12:00</td>\n",
       "      <td>112</td>\n",
       "      <td>5</td>\n",
       "    </tr>\n",
       "    <tr>\n",
       "      <th>2</th>\n",
       "      <td>15004-2020-08-03T09:54:00+02:00</td>\n",
       "      <td>03/08/2020</td>\n",
       "      <td>Viken</td>\n",
       "      <td>Vest</td>\n",
       "      <td>Bærum</td>\n",
       "      <td>Ringstabekkveien</td>\n",
       "      <td>Skallum</td>\n",
       "      <td>Lokal</td>\n",
       "      <td>Viken</td>\n",
       "      <td>150</td>\n",
       "      <td>0</td>\n",
       "      <td>10:18:56</td>\n",
       "      <td>10:19:21</td>\n",
       "      <td>10:19:00</td>\n",
       "      <td>10:19:00</td>\n",
       "      <td>112</td>\n",
       "      <td>6</td>\n",
       "    </tr>\n",
       "    <tr>\n",
       "      <th>3</th>\n",
       "      <td>15003-2020-07-27T13:00:00+02:00</td>\n",
       "      <td>27/07/2020</td>\n",
       "      <td>Viken</td>\n",
       "      <td>Vest</td>\n",
       "      <td>Bærum</td>\n",
       "      <td>Gruvemyra</td>\n",
       "      <td>Gullhaug</td>\n",
       "      <td>Lokal</td>\n",
       "      <td>Viken</td>\n",
       "      <td>150</td>\n",
       "      <td>1</td>\n",
       "      <td>13:52:04</td>\n",
       "      <td>13:52:26</td>\n",
       "      <td>13:51:00</td>\n",
       "      <td>13:51:00</td>\n",
       "      <td>112</td>\n",
       "      <td>10</td>\n",
       "    </tr>\n",
       "    <tr>\n",
       "      <th>4</th>\n",
       "      <td>15002-2020-08-27T07:15:00+02:00</td>\n",
       "      <td>27/08/2020</td>\n",
       "      <td>Viken</td>\n",
       "      <td>Vest</td>\n",
       "      <td>Bærum</td>\n",
       "      <td>Lysaker stasjon (Plattform A)</td>\n",
       "      <td>Tjernsmyr</td>\n",
       "      <td>Lokal</td>\n",
       "      <td>Viken</td>\n",
       "      <td>150</td>\n",
       "      <td>1</td>\n",
       "      <td>07:34:13</td>\n",
       "      <td>07:34:53</td>\n",
       "      <td>07:33:00</td>\n",
       "      <td>07:33:00</td>\n",
       "      <td>112</td>\n",
       "      <td>10</td>\n",
       "    </tr>\n",
       "  </tbody>\n",
       "</table>\n",
       "</div>"
      ],
      "text/plain": [
       "                             TurId        Dato  Fylke Område Kommune  \\\n",
       "0  15006-2020-08-10T10:24:00+02:00  10/08/2020  Viken   Vest   Bærum   \n",
       "1  15002-2020-08-15T12:54:00+02:00  15/08/2020  Viken   Vest   Bærum   \n",
       "2  15004-2020-08-03T09:54:00+02:00  03/08/2020  Viken   Vest   Bærum   \n",
       "3  15003-2020-07-27T13:00:00+02:00  27/07/2020  Viken   Vest   Bærum   \n",
       "4  15002-2020-08-27T07:15:00+02:00  27/08/2020  Viken   Vest   Bærum   \n",
       "\n",
       "                  Holdeplass_Fra                        Holdeplass_Til  \\\n",
       "0                    Nordliveien                             Tjernsmyr   \n",
       "1               Nadderud stadion  Bekkestua bussterminal (Plattform C)   \n",
       "2               Ringstabekkveien                               Skallum   \n",
       "3                      Gruvemyra                              Gullhaug   \n",
       "4  Lysaker stasjon (Plattform A)                             Tjernsmyr   \n",
       "\n",
       "  Linjetype Linjefylke Linjenavn  Linjeretning  \\\n",
       "0     Lokal      Viken       150             0   \n",
       "1     Lokal      Viken       150             0   \n",
       "2     Lokal      Viken       150             0   \n",
       "3     Lokal      Viken       150             1   \n",
       "4     Lokal      Viken       150             1   \n",
       "\n",
       "  Tidspunkt_Faktisk_Ankomst_Holdeplass_Fra  \\\n",
       "0                                 10:53:53   \n",
       "1                                 13:12:20   \n",
       "2                                 10:18:56   \n",
       "3                                 13:52:04   \n",
       "4                                 07:34:13   \n",
       "\n",
       "  Tidspunkt_Faktisk_Avgang_Holdeplass_Fra  \\\n",
       "0                                10:53:59   \n",
       "1                                13:12:26   \n",
       "2                                10:19:21   \n",
       "3                                13:52:26   \n",
       "4                                07:34:53   \n",
       "\n",
       "  Tidspunkt_Planlagt_Ankomst_Holdeplass_Fra  \\\n",
       "0                                  10:53:00   \n",
       "1                                  13:12:00   \n",
       "2                                  10:19:00   \n",
       "3                                  13:51:00   \n",
       "4                                  07:33:00   \n",
       "\n",
       "  Tidspunkt_Planlagt_Avgang_Holdeplass_Fra  Kjøretøy_Kapasitet  \\\n",
       "0                                 10:53:00                 112   \n",
       "1                                 13:12:00                 112   \n",
       "2                                 10:19:00                 112   \n",
       "3                                 13:51:00                 112   \n",
       "4                                 07:33:00                 112   \n",
       "\n",
       "   Passasjerer_Ombord  \n",
       "0                   5  \n",
       "1                   5  \n",
       "2                   6  \n",
       "3                  10  \n",
       "4                  10  "
      ]
     },
     "execution_count": 8,
     "metadata": {},
     "output_type": "execute_result"
    }
   ],
   "source": [
    "dataframe.head()"
   ]
  },
  {
   "cell_type": "code",
   "execution_count": 9,
   "metadata": {},
   "outputs": [],
   "source": [
    "#Information about rows and Columns in the data set"
   ]
  },
  {
   "cell_type": "code",
   "execution_count": 10,
   "metadata": {},
   "outputs": [
    {
     "data": {
      "text/plain": [
       "(6000, 17)"
      ]
     },
     "execution_count": 10,
     "metadata": {},
     "output_type": "execute_result"
    }
   ],
   "source": [
    "dataframe.shape"
   ]
  },
  {
   "cell_type": "code",
   "execution_count": 11,
   "metadata": {},
   "outputs": [],
   "source": [
    "threshold_max = dataframe['Passasjerer_Ombord'].quantile(0.90)"
   ]
  },
  {
   "cell_type": "code",
   "execution_count": 12,
   "metadata": {},
   "outputs": [
    {
     "data": {
      "text/plain": [
       "13.0"
      ]
     },
     "execution_count": 12,
     "metadata": {},
     "output_type": "execute_result"
    }
   ],
   "source": [
    "threshold_max"
   ]
  },
  {
   "cell_type": "code",
   "execution_count": 13,
   "metadata": {},
   "outputs": [],
   "source": [
    "threshold_min = dataframe['Passasjerer_Ombord'].quantile(0.10)"
   ]
  },
  {
   "cell_type": "code",
   "execution_count": 14,
   "metadata": {},
   "outputs": [
    {
     "data": {
      "text/html": [
       "<div>\n",
       "<style scoped>\n",
       "    .dataframe tbody tr th:only-of-type {\n",
       "        vertical-align: middle;\n",
       "    }\n",
       "\n",
       "    .dataframe tbody tr th {\n",
       "        vertical-align: top;\n",
       "    }\n",
       "\n",
       "    .dataframe thead th {\n",
       "        text-align: right;\n",
       "    }\n",
       "</style>\n",
       "<table border=\"1\" class=\"dataframe\">\n",
       "  <thead>\n",
       "    <tr style=\"text-align: right;\">\n",
       "      <th></th>\n",
       "      <th>TurId</th>\n",
       "      <th>Dato</th>\n",
       "      <th>Fylke</th>\n",
       "      <th>Område</th>\n",
       "      <th>Kommune</th>\n",
       "      <th>Holdeplass_Fra</th>\n",
       "      <th>Holdeplass_Til</th>\n",
       "      <th>Linjetype</th>\n",
       "      <th>Linjefylke</th>\n",
       "      <th>Linjenavn</th>\n",
       "      <th>Linjeretning</th>\n",
       "      <th>Tidspunkt_Faktisk_Ankomst_Holdeplass_Fra</th>\n",
       "      <th>Tidspunkt_Faktisk_Avgang_Holdeplass_Fra</th>\n",
       "      <th>Tidspunkt_Planlagt_Ankomst_Holdeplass_Fra</th>\n",
       "      <th>Tidspunkt_Planlagt_Avgang_Holdeplass_Fra</th>\n",
       "      <th>Kjøretøy_Kapasitet</th>\n",
       "      <th>Passasjerer_Ombord</th>\n",
       "    </tr>\n",
       "  </thead>\n",
       "  <tbody>\n",
       "    <tr>\n",
       "      <th>11</th>\n",
       "      <td>21005-2020-08-17T17:55:00+02:00</td>\n",
       "      <td>17/08/2020</td>\n",
       "      <td>Viken</td>\n",
       "      <td>Vest</td>\n",
       "      <td>Bærum</td>\n",
       "      <td>Haslum skole</td>\n",
       "      <td>Griniveien</td>\n",
       "      <td>Lokal</td>\n",
       "      <td>Viken</td>\n",
       "      <td>150</td>\n",
       "      <td>1</td>\n",
       "      <td>18:35:31</td>\n",
       "      <td>18:35:56</td>\n",
       "      <td>18:29:00</td>\n",
       "      <td>18:29:00</td>\n",
       "      <td>112</td>\n",
       "      <td>-2</td>\n",
       "    </tr>\n",
       "    <tr>\n",
       "      <th>15</th>\n",
       "      <td>15003-2020-08-08T19:18:00+02:00</td>\n",
       "      <td>08/08/2020</td>\n",
       "      <td>Viken</td>\n",
       "      <td>Vest</td>\n",
       "      <td>Bærum</td>\n",
       "      <td>Guldbrandslia</td>\n",
       "      <td>Sleiverudåsen</td>\n",
       "      <td>Lokal</td>\n",
       "      <td>Viken</td>\n",
       "      <td>150</td>\n",
       "      <td>1</td>\n",
       "      <td>20:04:55</td>\n",
       "      <td>20:05:01</td>\n",
       "      <td>20:02:00</td>\n",
       "      <td>20:02:00</td>\n",
       "      <td>112</td>\n",
       "      <td>-2</td>\n",
       "    </tr>\n",
       "    <tr>\n",
       "      <th>17</th>\n",
       "      <td>15002-2020-07-28T22:18:00+02:00</td>\n",
       "      <td>28/07/2020</td>\n",
       "      <td>Viken</td>\n",
       "      <td>Vest</td>\n",
       "      <td>Bærum</td>\n",
       "      <td>Steinskogen gravlund</td>\n",
       "      <td>Stein gård</td>\n",
       "      <td>Lokal</td>\n",
       "      <td>Viken</td>\n",
       "      <td>150</td>\n",
       "      <td>1</td>\n",
       "      <td>22:54:18</td>\n",
       "      <td>22:54:22</td>\n",
       "      <td>22:53:00</td>\n",
       "      <td>22:53:00</td>\n",
       "      <td>112</td>\n",
       "      <td>-5</td>\n",
       "    </tr>\n",
       "    <tr>\n",
       "      <th>18</th>\n",
       "      <td>15002-2020-08-03T21:24:00+02:00</td>\n",
       "      <td>03/08/2020</td>\n",
       "      <td>Oslo</td>\n",
       "      <td>Indre By</td>\n",
       "      <td>Sentrum</td>\n",
       "      <td>Nationaltheatret (plf F i Munkedamsv m Stortin...</td>\n",
       "      <td>St. Olavs plass  (mot Storgata)</td>\n",
       "      <td>Lokal</td>\n",
       "      <td>Viken</td>\n",
       "      <td>150</td>\n",
       "      <td>0</td>\n",
       "      <td>22:11:36</td>\n",
       "      <td>22:11:41</td>\n",
       "      <td>22:04:00</td>\n",
       "      <td>22:04:00</td>\n",
       "      <td>112</td>\n",
       "      <td>-7</td>\n",
       "    </tr>\n",
       "    <tr>\n",
       "      <th>30</th>\n",
       "      <td>26120-2020-08-14T08:41:00+02:00</td>\n",
       "      <td>14/08/2020</td>\n",
       "      <td>Viken</td>\n",
       "      <td>Vest</td>\n",
       "      <td>Asker</td>\n",
       "      <td>Torsrudveien</td>\n",
       "      <td>Bølstad terrasse</td>\n",
       "      <td>Lokal</td>\n",
       "      <td>Viken</td>\n",
       "      <td>261</td>\n",
       "      <td>0</td>\n",
       "      <td>09:07:06</td>\n",
       "      <td>09:07:09</td>\n",
       "      <td>09:07:00</td>\n",
       "      <td>09:07:00</td>\n",
       "      <td>112</td>\n",
       "      <td>-3</td>\n",
       "    </tr>\n",
       "    <tr>\n",
       "      <th>...</th>\n",
       "      <td>...</td>\n",
       "      <td>...</td>\n",
       "      <td>...</td>\n",
       "      <td>...</td>\n",
       "      <td>...</td>\n",
       "      <td>...</td>\n",
       "      <td>...</td>\n",
       "      <td>...</td>\n",
       "      <td>...</td>\n",
       "      <td>...</td>\n",
       "      <td>...</td>\n",
       "      <td>...</td>\n",
       "      <td>...</td>\n",
       "      <td>...</td>\n",
       "      <td>...</td>\n",
       "      <td>...</td>\n",
       "      <td>...</td>\n",
       "    </tr>\n",
       "    <tr>\n",
       "      <th>5961</th>\n",
       "      <td>43007-2020-06-19T14:25:00+02:00</td>\n",
       "      <td>19/06/2020</td>\n",
       "      <td>Viken</td>\n",
       "      <td>Nordøst</td>\n",
       "      <td>Eidsvoll</td>\n",
       "      <td>Eidsvoll verk stasjon (Plattform 1)</td>\n",
       "      <td>Håpet</td>\n",
       "      <td>Lokal</td>\n",
       "      <td>Viken</td>\n",
       "      <td>430</td>\n",
       "      <td>1</td>\n",
       "      <td>15:03:12</td>\n",
       "      <td>15:03:56</td>\n",
       "      <td>14:56:00</td>\n",
       "      <td>14:56:00</td>\n",
       "      <td>106</td>\n",
       "      <td>-15</td>\n",
       "    </tr>\n",
       "    <tr>\n",
       "      <th>5965</th>\n",
       "      <td>43003-2020-06-23T20:55:00+02:00</td>\n",
       "      <td>23/06/2020</td>\n",
       "      <td>Viken</td>\n",
       "      <td>Nordøst</td>\n",
       "      <td>Eidsvoll</td>\n",
       "      <td>Hammerstad</td>\n",
       "      <td>Ås skole</td>\n",
       "      <td>Lokal</td>\n",
       "      <td>Viken</td>\n",
       "      <td>430</td>\n",
       "      <td>1</td>\n",
       "      <td>21:38:35</td>\n",
       "      <td>21:38:39</td>\n",
       "      <td>21:38:00</td>\n",
       "      <td>21:38:00</td>\n",
       "      <td>106</td>\n",
       "      <td>-16</td>\n",
       "    </tr>\n",
       "    <tr>\n",
       "      <th>5989</th>\n",
       "      <td>10010-2020-06-28T13:00:00+02:00</td>\n",
       "      <td>28/06/2020</td>\n",
       "      <td>Viken</td>\n",
       "      <td>Nordøst</td>\n",
       "      <td>Lillestrøm</td>\n",
       "      <td>Vestbygata</td>\n",
       "      <td>Måsasvingen vest</td>\n",
       "      <td>Lokal</td>\n",
       "      <td>Viken</td>\n",
       "      <td>100</td>\n",
       "      <td>1</td>\n",
       "      <td>13:56:05</td>\n",
       "      <td>13:56:13</td>\n",
       "      <td>13:56:00</td>\n",
       "      <td>13:56:00</td>\n",
       "      <td>151</td>\n",
       "      <td>-2</td>\n",
       "    </tr>\n",
       "    <tr>\n",
       "      <th>5991</th>\n",
       "      <td>12004-2020-08-16T18:26:00+02:00</td>\n",
       "      <td>16/08/2020</td>\n",
       "      <td>Viken</td>\n",
       "      <td>Nordøst</td>\n",
       "      <td>Lørenskog</td>\n",
       "      <td>Ahus</td>\n",
       "      <td>Vittenberg</td>\n",
       "      <td>Lokal</td>\n",
       "      <td>Viken</td>\n",
       "      <td>310</td>\n",
       "      <td>1</td>\n",
       "      <td>18:39:51</td>\n",
       "      <td>18:41:27</td>\n",
       "      <td>18:39:00</td>\n",
       "      <td>18:39:00</td>\n",
       "      <td>72</td>\n",
       "      <td>-3</td>\n",
       "    </tr>\n",
       "    <tr>\n",
       "      <th>5999</th>\n",
       "      <td>34013-2020-08-05T13:31:00+02:00</td>\n",
       "      <td>05/08/2020</td>\n",
       "      <td>Viken</td>\n",
       "      <td>Nordøst</td>\n",
       "      <td>Lillestrøm</td>\n",
       "      <td>Tandberg</td>\n",
       "      <td>Selmer</td>\n",
       "      <td>Lokal</td>\n",
       "      <td>Viken</td>\n",
       "      <td>340</td>\n",
       "      <td>1</td>\n",
       "      <td>13:52:44</td>\n",
       "      <td>13:52:48</td>\n",
       "      <td>13:50:00</td>\n",
       "      <td>13:50:00</td>\n",
       "      <td>105</td>\n",
       "      <td>-5</td>\n",
       "    </tr>\n",
       "  </tbody>\n",
       "</table>\n",
       "<p>471 rows × 17 columns</p>\n",
       "</div>"
      ],
      "text/plain": [
       "                                TurId        Dato  Fylke    Område  \\\n",
       "11    21005-2020-08-17T17:55:00+02:00  17/08/2020  Viken      Vest   \n",
       "15    15003-2020-08-08T19:18:00+02:00  08/08/2020  Viken      Vest   \n",
       "17    15002-2020-07-28T22:18:00+02:00  28/07/2020  Viken      Vest   \n",
       "18    15002-2020-08-03T21:24:00+02:00  03/08/2020   Oslo  Indre By   \n",
       "30    26120-2020-08-14T08:41:00+02:00  14/08/2020  Viken      Vest   \n",
       "...                               ...         ...    ...       ...   \n",
       "5961  43007-2020-06-19T14:25:00+02:00  19/06/2020  Viken   Nordøst   \n",
       "5965  43003-2020-06-23T20:55:00+02:00  23/06/2020  Viken   Nordøst   \n",
       "5989  10010-2020-06-28T13:00:00+02:00  28/06/2020  Viken   Nordøst   \n",
       "5991  12004-2020-08-16T18:26:00+02:00  16/08/2020  Viken   Nordøst   \n",
       "5999  34013-2020-08-05T13:31:00+02:00  05/08/2020  Viken   Nordøst   \n",
       "\n",
       "         Kommune                                     Holdeplass_Fra  \\\n",
       "11         Bærum                                       Haslum skole   \n",
       "15         Bærum                                      Guldbrandslia   \n",
       "17         Bærum                               Steinskogen gravlund   \n",
       "18       Sentrum  Nationaltheatret (plf F i Munkedamsv m Stortin...   \n",
       "30         Asker                                       Torsrudveien   \n",
       "...          ...                                                ...   \n",
       "5961    Eidsvoll                Eidsvoll verk stasjon (Plattform 1)   \n",
       "5965    Eidsvoll                                         Hammerstad   \n",
       "5989  Lillestrøm                                         Vestbygata   \n",
       "5991   Lørenskog                                               Ahus   \n",
       "5999  Lillestrøm                                           Tandberg   \n",
       "\n",
       "                       Holdeplass_Til Linjetype Linjefylke Linjenavn  \\\n",
       "11                         Griniveien     Lokal      Viken       150   \n",
       "15                      Sleiverudåsen     Lokal      Viken       150   \n",
       "17                         Stein gård     Lokal      Viken       150   \n",
       "18    St. Olavs plass  (mot Storgata)     Lokal      Viken       150   \n",
       "30                   Bølstad terrasse     Lokal      Viken       261   \n",
       "...                               ...       ...        ...       ...   \n",
       "5961                            Håpet     Lokal      Viken       430   \n",
       "5965                         Ås skole     Lokal      Viken       430   \n",
       "5989                 Måsasvingen vest     Lokal      Viken       100   \n",
       "5991                       Vittenberg     Lokal      Viken       310   \n",
       "5999                           Selmer     Lokal      Viken       340   \n",
       "\n",
       "      Linjeretning Tidspunkt_Faktisk_Ankomst_Holdeplass_Fra  \\\n",
       "11               1                                 18:35:31   \n",
       "15               1                                 20:04:55   \n",
       "17               1                                 22:54:18   \n",
       "18               0                                 22:11:36   \n",
       "30               0                                 09:07:06   \n",
       "...            ...                                      ...   \n",
       "5961             1                                 15:03:12   \n",
       "5965             1                                 21:38:35   \n",
       "5989             1                                 13:56:05   \n",
       "5991             1                                 18:39:51   \n",
       "5999             1                                 13:52:44   \n",
       "\n",
       "     Tidspunkt_Faktisk_Avgang_Holdeplass_Fra  \\\n",
       "11                                  18:35:56   \n",
       "15                                  20:05:01   \n",
       "17                                  22:54:22   \n",
       "18                                  22:11:41   \n",
       "30                                  09:07:09   \n",
       "...                                      ...   \n",
       "5961                                15:03:56   \n",
       "5965                                21:38:39   \n",
       "5989                                13:56:13   \n",
       "5991                                18:41:27   \n",
       "5999                                13:52:48   \n",
       "\n",
       "     Tidspunkt_Planlagt_Ankomst_Holdeplass_Fra  \\\n",
       "11                                    18:29:00   \n",
       "15                                    20:02:00   \n",
       "17                                    22:53:00   \n",
       "18                                    22:04:00   \n",
       "30                                    09:07:00   \n",
       "...                                        ...   \n",
       "5961                                  14:56:00   \n",
       "5965                                  21:38:00   \n",
       "5989                                  13:56:00   \n",
       "5991                                  18:39:00   \n",
       "5999                                  13:50:00   \n",
       "\n",
       "     Tidspunkt_Planlagt_Avgang_Holdeplass_Fra  Kjøretøy_Kapasitet  \\\n",
       "11                                   18:29:00                 112   \n",
       "15                                   20:02:00                 112   \n",
       "17                                   22:53:00                 112   \n",
       "18                                   22:04:00                 112   \n",
       "30                                   09:07:00                 112   \n",
       "...                                       ...                 ...   \n",
       "5961                                 14:56:00                 106   \n",
       "5965                                 21:38:00                 106   \n",
       "5989                                 13:56:00                 151   \n",
       "5991                                 18:39:00                  72   \n",
       "5999                                 13:50:00                 105   \n",
       "\n",
       "      Passasjerer_Ombord  \n",
       "11                    -2  \n",
       "15                    -2  \n",
       "17                    -5  \n",
       "18                    -7  \n",
       "30                    -3  \n",
       "...                  ...  \n",
       "5961                 -15  \n",
       "5965                 -16  \n",
       "5989                  -2  \n",
       "5991                  -3  \n",
       "5999                  -5  \n",
       "\n",
       "[471 rows x 17 columns]"
      ]
     },
     "execution_count": 14,
     "metadata": {},
     "output_type": "execute_result"
    }
   ],
   "source": [
    "dataframe[dataframe['Passasjerer_Ombord']< threshold_min]"
   ]
  },
  {
   "cell_type": "code",
   "execution_count": 15,
   "metadata": {},
   "outputs": [],
   "source": [
    "new_dataframe1=dataframe[(dataframe['Passasjerer_Ombord']<threshold_max) & (dataframe['Passasjerer_Ombord']>threshold_min)]"
   ]
  },
  {
   "cell_type": "code",
   "execution_count": 16,
   "metadata": {},
   "outputs": [
    {
     "data": {
      "text/plain": [
       "(4695, 17)"
      ]
     },
     "execution_count": 16,
     "metadata": {},
     "output_type": "execute_result"
    }
   ],
   "source": [
    "new_dataframe1.shape "
   ]
  },
  {
   "cell_type": "code",
   "execution_count": 20,
   "metadata": {},
   "outputs": [
    {
     "data": {
      "image/png": "[encoded data removed]",
      "text/plain": [
       "<Figure size 432x288 with 1 Axes>"
      ]
     },
     "metadata": {
      "needs_background": "light"
     },
     "output_type": "display_data"
    }
   ],
   "source": [
    "plt.hist(new_dataframe1.Passasjerer_Ombord, bins=10, rwidth=0.8) \n",
    "plt.xlabel('Passasjerer ombord') \n",
    "plt.ylabel('Count') \n",
    "plt.show()"
   ]
  },
  {
   "cell_type": "code",
   "execution_count": 21,
   "metadata": {},
   "outputs": [
    {
     "data": {
      "text/plain": [
       "Text(0, 0.5, 'Frequency')"
      ]
     },
     "execution_count": 21,
     "metadata": {},
     "output_type": "execute_result"
    },
    {
     "data": {
      "image/png": "[encoded data removed]",
      "text/plain": [
       "<Figure size 432x288 with 1 Axes>"
      ]
     },
     "metadata": {
      "needs_background": "light"
     },
     "output_type": "display_data"
    }
   ],
   "source": [
    "# create a figure and axis \n",
    "fig, ax = plt.subplots() \n",
    "# count the occurrence of each class \n",
    "data = new_dataframe1['Passasjerer_Ombord'].value_counts() \n",
    "# get x and y data \n",
    "points = data.index \n",
    "frequency = data.values \n",
    "# create bar chart \n",
    "ax.bar(points, frequency) \n",
    "# set title and labels \n",
    "ax.set_title('Passasjerer ombord') \n",
    "ax.set_xlabel('Points') \n",
    "ax.set_ylabel('Frequency')"
   ]
  },
  {
   "cell_type": "code",
   "execution_count": 22,
   "metadata": {},
   "outputs": [
    {
     "data": {
      "text/plain": [
       "<AxesSubplot:>"
      ]
     },
     "execution_count": 22,
     "metadata": {},
     "output_type": "execute_result"
    },
    {
     "data": {
      "image/png": "[encoded data removed]",
      "text/plain": [
       "<Figure size 432x288 with 1 Axes>"
      ]
     },
     "metadata": {
      "needs_background": "light"
     },
     "output_type": "display_data"
    }
   ],
   "source": [
    "new_dataframe1['Passasjerer_Ombord'].value_counts().sort_index().plot.bar()"
   ]
  },
  {
   "cell_type": "code",
   "execution_count": 30,
   "metadata": {},
   "outputs": [
    {
     "data": {
      "text/plain": [
       "<AxesSubplot:xlabel='Kommune'>"
      ]
     },
     "execution_count": 30,
     "metadata": {},
     "output_type": "execute_result"
    },
    {
     "data": {
      "image/png": "[encoded data removed]",
      "text/plain": [
       "<Figure size 432x288 with 1 Axes>"
      ]
     },
     "metadata": {
      "needs_background": "light"
     },
     "output_type": "display_data"
    }
   ],
   "source": [
    "new_dataframe1.groupby(\"Kommune\").Passasjerer_Ombord.mean().sort_values(ascending=False)[:15].plot.bar()"
   ]
  }
 ],
 "metadata": {
  "kernelspec": {
   "display_name": "Python 3",
   "language": "python",
   "name": "python3"
  },
  "language_info": {
   "codemirror_mode": {
    "name": "ipython",
    "version": 3
   },
   "file_extension": ".py",
   "mimetype": "text/x-python",
   "name": "python",
   "nbconvert_exporter": "python",
   "pygments_lexer": "ipython3",
   "version": "3.8.3"
  }
 },
 "nbformat": 4,
 "nbformat_minor": 4
}
