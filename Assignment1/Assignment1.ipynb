{
 "cells": [
  {
   "cell_type": "code",
   "execution_count": 51,
   "metadata": {},
   "outputs": [],
   "source": [
    "# Importing packages\n",
    "import pandas as pd\n",
    "from matplotlib import pyplot as plt\n",
    "import seaborn as sns\n",
    "from datetime import datetime, timedelta as dt"
   ]
  },
  {
   "cell_type": "code",
   "execution_count": 52,
   "metadata": {},
   "outputs": [],
   "source": [
    "#Populating DataFrame with Ruter_data.csv info\n",
    "ruterdata = pd.read_csv(\"Ruter_data.csv\", sep=\";\")"
   ]
  },
  {
   "cell_type": "code",
   "execution_count": null,
   "metadata": {},
   "outputs": [],
   "source": []
  },
  {
   "cell_type": "code",
   "execution_count": null,
   "metadata": {},
   "outputs": [],
   "source": []
  },
  {
   "cell_type": "code",
   "execution_count": 53,
   "metadata": {},
   "outputs": [],
   "source": [
    "#Visualization and cleaning of passenger frequency "
   ]
  },
  {
   "cell_type": "code",
   "execution_count": 54,
   "metadata": {},
   "outputs": [
    {
     "data": {
      "text/plain": [
       "Text(0, 0.5, 'Frequency')"
      ]
     },
     "execution_count": 54,
     "metadata": {},
     "output_type": "execute_result"
    },
    {
     "data": {
      "image/png": "[encoded data removed]",
      "text/plain": [
       "<Figure size 432x288 with 1 Axes>"
      ]
     },
     "metadata": {
      "needs_background": "light"
     },
     "output_type": "display_data"
    }
   ],
   "source": [
    "# Visualizing passenger frequency with outliers\n",
    "\n",
    "# create figure and axis using matplotlib\n",
    "fig, ax = plt.subplots()\n",
    "# plot histogram\n",
    "ax.hist(ruterdata['Passasjerer_Ombord'])\n",
    "# set title and labels\n",
    "ax.set_title('Passenger frequency')\n",
    "ax.set_xlabel('Passenger')\n",
    "ax.set_ylabel('Frequency')"
   ]
  },
  {
   "cell_type": "code",
   "execution_count": 55,
   "metadata": {},
   "outputs": [],
   "source": [
    "# Removing outliers in Passasjerer_Ombord\n",
    "threshold_max = ruterdata['Passasjerer_Ombord'].quantile(0.99)\n",
    "threshold_min = ruterdata['Passasjerer_Ombord'].quantile(0.01)\n",
    "ruterdata_clean = ruterdata[(ruterdata['Passasjerer_Ombord'] <threshold_max) & (ruterdata['Passasjerer_Ombord'] >threshold_min)]"
   ]
  },
  {
   "cell_type": "code",
   "execution_count": 56,
   "metadata": {},
   "outputs": [
    {
     "data": {
      "text/plain": [
       "Text(0, 0.5, 'Frequency')"
      ]
     },
     "execution_count": 56,
     "metadata": {},
     "output_type": "execute_result"
    },
    {
     "data": {
      "image/png": "[encoded data removed]",
      "text/plain": [
       "<Figure size 432x288 with 1 Axes>"
      ]
     },
     "metadata": {
      "needs_background": "light"
     },
     "output_type": "display_data"
    }
   ],
   "source": [
    "# Visualization after removing outliers\n",
    "fig, ax = plt.subplots()\n",
    "ax.hist(ruterdata_clean['Passasjerer_Ombord'])\n",
    "ax.set_title('Passenger frequency')\n",
    "ax.set_xlabel('Passenger')\n",
    "ax.set_ylabel('Frequency')"
   ]
  },
  {
   "cell_type": "code",
   "execution_count": null,
   "metadata": {},
   "outputs": [],
   "source": []
  },
  {
   "cell_type": "code",
   "execution_count": null,
   "metadata": {},
   "outputs": [],
   "source": []
  },
  {
   "cell_type": "code",
   "execution_count": 57,
   "metadata": {},
   "outputs": [],
   "source": [
    "# Visualizeing of average delays throughout a day, and night"
   ]
  },
  {
   "cell_type": "code",
   "execution_count": 58,
   "metadata": {},
   "outputs": [],
   "source": [
    "# Making column names more user friendly \n",
    "delay_data = ruterdata.rename(columns={'Tidspunkt_Faktisk_Ankomst_Holdeplass_Fra': 'Faktisk_Ankomst', 'Tidspunkt_Faktisk_Avgang_Holdeplass_Fra': 'Faktisk_Avgang','Tidspunkt_Planlagt_Ankomst_Holdeplass_Fra': 'Planlagt_Ankomst', 'Tidspunkt_Planlagt_Avgang_Holdeplass_Fra': 'Planlagt_Avgang'})"
   ]
  },
  {
   "cell_type": "code",
   "execution_count": 59,
   "metadata": {},
   "outputs": [],
   "source": [
    "# New DataFrame with usefull values\n",
    "delay_data = delay_data.filter(items=['Faktisk_Ankomst','Planlagt_Ankomst'])"
   ]
  },
  {
   "cell_type": "code",
   "execution_count": 60,
   "metadata": {},
   "outputs": [],
   "source": [
    "# Removing all emty rows ( : )\n",
    "delay_data = delay_data[delay_data.Faktisk_Ankomst != ':']"
   ]
  },
  {
   "cell_type": "code",
   "execution_count": 61,
   "metadata": {},
   "outputs": [],
   "source": [
    "# Converts from DateTime to H,M,S\n",
    "delay_data[['Faktisk_Timer','Faktisk_Minutter','Faktisk_Sekunder']] = delay_data['Faktisk_Ankomst'].str.split(':',expand=True)\n",
    "delay_data[['Planlagt_Timer','Planlagt_Minutter','Planlagt_Sekunder']] = delay_data['Planlagt_Ankomst'].str.split(':',expand=True)"
   ]
  },
  {
   "cell_type": "code",
   "execution_count": 62,
   "metadata": {},
   "outputs": [],
   "source": [
    "# Converting the values to int64. Converting 24h and 25h to 00h and 01h\n",
    "delay_data[\"Planlagt_Timer\"] = pd.to_numeric(delay_data[\"Planlagt_Timer\"])\n",
    "delay_data[\"Planlagt_Timer\"] = delay_data[\"Planlagt_Timer\"].mod(24)\n",
    "delay_data[\"Faktisk_Timer\"] = pd.to_numeric(delay_data[\"Faktisk_Timer\"])\n",
    "delay_data[\"Faktisk_Timer\"] = delay_data[\"Faktisk_Timer\"].mod(24)"
   ]
  },
  {
   "cell_type": "code",
   "execution_count": 63,
   "metadata": {},
   "outputs": [],
   "source": [
    "# Joining timer, minutter and sekunder into Faktisk_Ankomst\n",
    "kolonner = ['Faktisk_Timer','Faktisk_Minutter', 'Faktisk_Sekunder']\n",
    "delay_data['Faktisk_Ankomst'] = delay_data[kolonner].apply(lambda row: ':'.join(row.values.astype(str)), axis=1)\n",
    "kolonner = ['Planlagt_Timer','Planlagt_Minutter', 'Planlagt_Sekunder']\n",
    "delay_data['Planlagt_Ankomst'] = delay_data[kolonner].apply(lambda row: ':'.join(row.values.astype(str)), axis=1)"
   ]
  },
  {
   "cell_type": "code",
   "execution_count": 64,
   "metadata": {},
   "outputs": [],
   "source": [
    "# New DataFrame with usefull columns\n",
    "delay_data = delay_data.filter(items=['Faktisk_Ankomst','Planlagt_Ankomst', 'Planlagt_Timer'])\n",
    "delay_data = delay_data.rename(columns={'Planlagt_Timer': 'Timer'})"
   ]
  },
  {
   "cell_type": "code",
   "execution_count": 65,
   "metadata": {},
   "outputs": [],
   "source": [
    "# Converting from String to DateTime\n",
    "delay_data[\"Faktisk_Ankomst\"] = delay_data[\"Faktisk_Ankomst\"].astype(\"datetime64\")\n",
    "delay_data[\"Planlagt_Ankomst\"] = delay_data[\"Planlagt_Ankomst\"].astype(\"datetime64\")"
   ]
  },
  {
   "cell_type": "code",
   "execution_count": 66,
   "metadata": {},
   "outputs": [],
   "source": [
    "# Finding difference between Faktisk_Ankomst and Planlagt_Ankomst, and converting it to seconds\n",
    "delay_data['Differanse'] = (delay_data.Faktisk_Ankomst - delay_data.Planlagt_Ankomst)\n",
    "delay_data['Differanse'] = delay_data['Differanse'].dt.total_seconds()"
   ]
  },
  {
   "cell_type": "code",
   "execution_count": 67,
   "metadata": {},
   "outputs": [],
   "source": [
    "# New DataFrame with usefull columns\n",
    "delay_data = delay_data.filter(items=['Timer','Differanse'])"
   ]
  },
  {
   "cell_type": "code",
   "execution_count": 68,
   "metadata": {},
   "outputs": [],
   "source": [
    "# Groups data by hours, and finds the average delay for each hour\n",
    "data = delay_data.groupby(delay_data['Timer']).mean()"
   ]
  },
  {
   "cell_type": "code",
   "execution_count": 69,
   "metadata": {},
   "outputs": [],
   "source": [
    "# Removing outliers\n",
    "threshold_max = delay_data[\"Differanse\"].quantile(0.99)\n",
    "threshold_min = delay_data[\"Differanse\"].quantile(0.01)\n",
    "ruterDataDag = delay_data[(delay_data[\"Differanse\"] < threshold_max) & (delay_data[\"Differanse\"] > threshold_min) & (delay_data['Timer'] >= 6)]\n",
    "ruterDataNatt = delay_data[(delay_data[\"Differanse\"] < threshold_max) & (delay_data[\"Differanse\"] > threshold_min) & (delay_data['Timer'] <= 5)]"
   ]
  },
  {
   "cell_type": "code",
   "execution_count": 70,
   "metadata": {},
   "outputs": [
    {
     "data": {
      "text/plain": [
       "Text(0, 0.5, 'Forsinkelse (Sekunder)')"
      ]
     },
     "execution_count": 70,
     "metadata": {},
     "output_type": "execute_result"
    },
    {
     "data": {
      "image/png": "[encoded data removed]",
      "text/plain": [
       "<Figure size 432x288 with 1 Axes>"
      ]
     },
     "metadata": {
      "needs_background": "light"
     },
     "output_type": "display_data"
    }
   ],
   "source": [
    "# Visualization of average delay in the timespam 06:00 to 23:00\n",
    "ruterDataDag = ruterDataDag.groupby(ruterDataDag.Timer).mean()\n",
    "forsinkelseGrafDag = ruterDataDag.plot.line(title=\"Gjennomsnittlig forsinkelse mellom 06:00 og 23:00\")\n",
    "forsinkelseGrafDag.set_xlabel(\"Timer\")\n",
    "forsinkelseGrafDag.set_ylabel(\"Forsinkelse (Sekunder)\")"
   ]
  },
  {
   "cell_type": "code",
   "execution_count": 71,
   "metadata": {},
   "outputs": [
    {
     "data": {
      "text/plain": [
       "Text(0, 0.5, 'Forsinkelse (Sekunder)')"
      ]
     },
     "execution_count": 71,
     "metadata": {},
     "output_type": "execute_result"
    },
    {
     "data": {
      "image/png": "[encoded data removed]",
      "text/plain": [
       "<Figure size 432x288 with 1 Axes>"
      ]
     },
     "metadata": {
      "needs_background": "light"
     },
     "output_type": "display_data"
    }
   ],
   "source": [
    "# Visualization of average delay in the timespam 00:00 to 05:00\n",
    "ruterDataNatt = ruterDataNatt.groupby(ruterDataNatt.Timer).mean()\n",
    "forsinkelseGrafNatt = ruterDataNatt.plot.line(title=\"Gjennomsnittlig forsinkelse mellom 00:00 og 05:00\")\n",
    "forsinkelseGrafNatt.set_xlabel(\"Timer\")\n",
    "forsinkelseGrafNatt.set_ylabel(\"Forsinkelse (Sekunder)\")"
   ]
  },
  {
   "cell_type": "code",
   "execution_count": null,
   "metadata": {},
   "outputs": [],
   "source": []
  },
  {
   "cell_type": "code",
   "execution_count": null,
   "metadata": {},
   "outputs": [],
   "source": []
  },
  {
   "cell_type": "code",
   "execution_count": 72,
   "metadata": {},
   "outputs": [],
   "source": [
    "# Visualization of number of rides every hour\n",
    "# Visualization of average passengers every hour"
   ]
  },
  {
   "cell_type": "code",
   "execution_count": 73,
   "metadata": {},
   "outputs": [],
   "source": [
    "# Dataframe with only passengers and time comlums\n",
    "passengers_data = ruterdata.rename(columns={'Tidspunkt_Faktisk_Ankomst_Holdeplass_Fra': 'Faktisk_Ankomst', 'Passasjerer_Ombord': 'Passengers'})"
   ]
  },
  {
   "cell_type": "code",
   "execution_count": 74,
   "metadata": {},
   "outputs": [],
   "source": [
    "# Filtering to only include arrival time and passernger count\n",
    "passengers_data = passengers_data.filter(items=['Faktisk_Ankomst','Passengers'])"
   ]
  },
  {
   "cell_type": "code",
   "execution_count": 75,
   "metadata": {},
   "outputs": [],
   "source": [
    "# Removing all rows with empty arrival time\n",
    "passengers_data = passengers_data[passengers_data.Faktisk_Ankomst != ':']"
   ]
  },
  {
   "cell_type": "code",
   "execution_count": 76,
   "metadata": {},
   "outputs": [],
   "source": [
    "# Dividing time into h, m, s\n",
    "passengers_data[['Hour','Minutter','Sekunder']] = passengers_data['Faktisk_Ankomst'].str.split(':',expand=True)"
   ]
  },
  {
   "cell_type": "code",
   "execution_count": 77,
   "metadata": {},
   "outputs": [],
   "source": [
    "# Converting 24h and 25h to 00h and 01h\n",
    "passengers_data[\"Hour\"] = pd.to_numeric(passengers_data[\"Hour\"])\n",
    "passengers_data[\"Hour\"] = passengers_data[\"Hour\"].mod(24)"
   ]
  },
  {
   "cell_type": "code",
   "execution_count": 78,
   "metadata": {},
   "outputs": [],
   "source": [
    "passengers_data = passengers_data.filter(items=['Hour','Passengers'])"
   ]
  },
  {
   "cell_type": "code",
   "execution_count": 79,
   "metadata": {},
   "outputs": [],
   "source": [
    "# Removing outlyers\n",
    "threshold_max = passengers_data['Passengers'].quantile(0.99)\n",
    "threshold_min = passengers_data['Passengers'].quantile(0.01)"
   ]
  },
  {
   "cell_type": "code",
   "execution_count": 80,
   "metadata": {},
   "outputs": [],
   "source": [
    "# Removing rows with outlyers in the passenger column\n",
    "passengers_data = passengers_data[(passengers_data['Passengers'] < threshold_max) & (passengers_data['Passengers'] > threshold_min)]"
   ]
  },
  {
   "cell_type": "code",
   "execution_count": 81,
   "metadata": {},
   "outputs": [
    {
     "data": {
      "image/png": "[encoded data removed]",
      "text/plain": [
       "<Figure size 432x288 with 1 Axes>"
      ]
     },
     "metadata": {
      "needs_background": "light"
     },
     "output_type": "display_data"
    }
   ],
   "source": [
    "# Visualization of number of rides every hour\n",
    "plt.hist(passengers_data.Hour, bins=24, rwidth=0.8) \n",
    "plt.xlabel('Hour') \n",
    "plt.ylabel('Number of Rides') \n",
    "plt.title('Number of rides every hour')\n",
    "plt.show()"
   ]
  },
  {
   "cell_type": "code",
   "execution_count": 82,
   "metadata": {},
   "outputs": [],
   "source": [
    "# Groups data by hours, and finds the average passengers every hour\n",
    "data = passengers_data.groupby(passengers_data.Hour).mean()"
   ]
  },
  {
   "cell_type": "code",
   "execution_count": 83,
   "metadata": {},
   "outputs": [
    {
     "data": {
      "text/plain": [
       "Text(0.5, 1.0, 'Average passengers every hour')"
      ]
     },
     "execution_count": 83,
     "metadata": {},
     "output_type": "execute_result"
    },
    {
     "data": {
      "image/png": "[encoded data removed]",
      "text/plain": [
       "<Figure size 432x288 with 1 Axes>"
      ]
     },
     "metadata": {
      "needs_background": "light"
     },
     "output_type": "display_data"
    }
   ],
   "source": [
    "# Visualization of average passengers every hour\n",
    "plot = sns.lineplot(x='Hour', y='Passengers', data=data)\n",
    "plot.set_title('Average passengers every hour')"
   ]
  }
 ],
 "metadata": {
  "kernelspec": {
   "display_name": "Python 3",
   "language": "python",
   "name": "python3"
  },
  "language_info": {
   "codemirror_mode": {
    "name": "ipython",
    "version": 3
   },
   "file_extension": ".py",
   "mimetype": "text/x-python",
   "name": "python",
   "nbconvert_exporter": "python",
   "pygments_lexer": "ipython3",
   "version": "3.8.5"
  }
 },
 "nbformat": 4,
 "nbformat_minor": 4
}
