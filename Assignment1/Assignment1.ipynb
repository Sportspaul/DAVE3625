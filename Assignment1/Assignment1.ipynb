{
 "cells": [
  {
   "cell_type": "code",
   "execution_count": 3,
   "metadata": {},
   "outputs": [],
   "source": [
    "import pandas as panda"
   ]
  },
  {
   "cell_type": "code",
   "execution_count": 4,
   "metadata": {},
   "outputs": [],
   "source": [
    "from matplotlib import pyplot as plt"
   ]
  },
  {
   "cell_type": "code",
   "execution_count": 5,
   "metadata": {},
   "outputs": [],
   "source": [
    "import seaborn as sns"
   ]
  },
  {
   "cell_type": "code",
   "execution_count": 6,
   "metadata": {},
   "outputs": [],
   "source": [
    "data = panda.read_csv(\"Ruter_data.csv\", sep=\";\")"
   ]
  },
  {
   "cell_type": "code",
   "execution_count": 9,
   "metadata": {
    "scrolled": true
   },
   "outputs": [
    {
     "data": {
      "text/plain": [
       "(6000, 17)"
      ]
     },
     "execution_count": 9,
     "metadata": {},
     "output_type": "execute_result"
    }
   ],
   "source": [
    "data.shape"
   ]
  },
  {
   "cell_type": "code",
   "execution_count": null,
   "metadata": {},
   "outputs": [],
   "source": [
    "#Visualization before removing outliers"
   ]
  },
  {
   "cell_type": "code",
   "execution_count": 16,
   "metadata": {},
   "outputs": [
    {
     "data": {
      "text/plain": [
       "Text(0, 0.5, 'Frequency')"
      ]
     },
     "execution_count": 16,
     "metadata": {},
     "output_type": "execute_result"
    },
    {
     "data": {
      "image/png": "[encoded data removed]",
      "text/plain": [
       "<Figure size 432x288 with 1 Axes>"
      ]
     },
     "metadata": {
      "needs_background": "light"
     },
     "output_type": "display_data"
    }
   ],
   "source": [
    "# create figure and axis using matplotlib\n",
    "fig, ax = plt.subplots()\n",
    "# plot histogram\n",
    "ax.hist(data['Passasjerer_Ombord'])\n",
    "# set title and labels\n",
    "ax.set_title('Passasjer_Ombord')\n",
    "ax.set_xlabel('Points')\n",
    "ax.set_ylabel('Frequency')"
   ]
  },
  {
   "cell_type": "code",
   "execution_count": 7,
   "metadata": {},
   "outputs": [],
   "source": [
    "# Removing outlier Passasjerer_Ombord"
   ]
  },
  {
   "cell_type": "code",
   "execution_count": 8,
   "metadata": {},
   "outputs": [],
   "source": [
    "threshold_max = data['Passasjerer_Ombord'].quantile(0.99)"
   ]
  },
  {
   "cell_type": "code",
   "execution_count": 12,
   "metadata": {},
   "outputs": [],
   "source": [
    "threshold_min = data['Passasjerer_Ombord'].quantile(0.01)"
   ]
  },
  {
   "cell_type": "code",
   "execution_count": 13,
   "metadata": {},
   "outputs": [],
   "source": [
    "new_dataframe = data[(data['Passasjerer_Ombord'] <threshold_max) & (data['Passasjerer_Ombord'] >threshold_min)]"
   ]
  },
  {
   "cell_type": "code",
   "execution_count": 14,
   "metadata": {},
   "outputs": [
    {
     "data": {
      "text/plain": [
       "(5879, 17)"
      ]
     },
     "execution_count": 14,
     "metadata": {},
     "output_type": "execute_result"
    }
   ],
   "source": [
    "new_dataframe.shape"
   ]
  },
  {
   "cell_type": "code",
   "execution_count": null,
   "metadata": {},
   "outputs": [],
   "source": [
    "#Visualization after removing outliers"
   ]
  },
  {
   "cell_type": "code",
   "execution_count": 17,
   "metadata": {},
   "outputs": [
    {
     "data": {
      "text/plain": [
       "Text(0, 0.5, 'Frequency')"
      ]
     },
     "execution_count": 17,
     "metadata": {},
     "output_type": "execute_result"
    },
    {
     "data": {
      "image/png": "[encoded data removed]",
      "text/plain": [
       "<Figure size 432x288 with 1 Axes>"
      ]
     },
     "metadata": {
      "needs_background": "light"
     },
     "output_type": "display_data"
    }
   ],
   "source": [
    "fig, ax = plt.subplots()\n",
    "ax.hist(new_dataframe['Passasjerer_Ombord'])\n",
    "ax.set_title('Passasjer_Ombord')\n",
    "ax.set_xlabel('Points')\n",
    "ax.set_ylabel('Frequency')"
   ]
  },
  {
   "cell_type": "code",
   "execution_count": null,
   "metadata": {},
   "outputs": [],
   "source": [
    "# Resten er noe ikke ferdig"
   ]
  },
  {
   "cell_type": "code",
   "execution_count": 160,
   "metadata": {},
   "outputs": [],
   "source": [
    "data[[\"LinjeId\", \"Klokkeslett\"]] = data[\"TurId\"].str.split(\"T\", expand=True)\n"
   ]
  },
  {
   "cell_type": "code",
   "execution_count": 161,
   "metadata": {},
   "outputs": [],
   "source": [
    "data[[\"Klokkeslett\",\"Tidsone\"]] = data[\"Klokkeslett\"].str.split(\"+\", expand=True)"
   ]
  },
  {
   "cell_type": "code",
   "execution_count": 162,
   "metadata": {},
   "outputs": [],
   "source": [
    "data[[\"LinjeId\",\"År\",\"Måned\",\"Dag\" ]] = data[\"LinjeId\"].str.split(\"-\", expand=True)"
   ]
  },
  {
   "cell_type": "code",
   "execution_count": 163,
   "metadata": {},
   "outputs": [
    {
     "data": {
      "text/html": [
       "<div>\n",
       "<style scoped>\n",
       "    .dataframe tbody tr th:only-of-type {\n",
       "        vertical-align: middle;\n",
       "    }\n",
       "\n",
       "    .dataframe tbody tr th {\n",
       "        vertical-align: top;\n",
       "    }\n",
       "\n",
       "    .dataframe thead th {\n",
       "        text-align: right;\n",
       "    }\n",
       "</style>\n",
       "<table border=\"1\" class=\"dataframe\">\n",
       "  <thead>\n",
       "    <tr style=\"text-align: right;\">\n",
       "      <th></th>\n",
       "      <th>TurId</th>\n",
       "      <th>Dato</th>\n",
       "      <th>Passasjerer_Ombord</th>\n",
       "      <th>Kommune</th>\n",
       "      <th>Linjenavn</th>\n",
       "      <th>LinjeId</th>\n",
       "      <th>Klokkeslett</th>\n",
       "      <th>Tidsone</th>\n",
       "      <th>År</th>\n",
       "      <th>Måned</th>\n",
       "      <th>Dag</th>\n",
       "    </tr>\n",
       "  </thead>\n",
       "  <tbody>\n",
       "    <tr>\n",
       "      <th>0</th>\n",
       "      <td>15006-2020-08-10T10:24:00+02:00</td>\n",
       "      <td>10/08/2020</td>\n",
       "      <td>5</td>\n",
       "      <td>Bærum</td>\n",
       "      <td>150</td>\n",
       "      <td>15006</td>\n",
       "      <td>10:24:00</td>\n",
       "      <td>02:00</td>\n",
       "      <td>2020</td>\n",
       "      <td>08</td>\n",
       "      <td>10</td>\n",
       "    </tr>\n",
       "    <tr>\n",
       "      <th>1</th>\n",
       "      <td>15002-2020-08-15T12:54:00+02:00</td>\n",
       "      <td>15/08/2020</td>\n",
       "      <td>5</td>\n",
       "      <td>Bærum</td>\n",
       "      <td>150</td>\n",
       "      <td>15002</td>\n",
       "      <td>12:54:00</td>\n",
       "      <td>02:00</td>\n",
       "      <td>2020</td>\n",
       "      <td>08</td>\n",
       "      <td>15</td>\n",
       "    </tr>\n",
       "    <tr>\n",
       "      <th>2</th>\n",
       "      <td>15004-2020-08-03T09:54:00+02:00</td>\n",
       "      <td>03/08/2020</td>\n",
       "      <td>6</td>\n",
       "      <td>Bærum</td>\n",
       "      <td>150</td>\n",
       "      <td>15004</td>\n",
       "      <td>09:54:00</td>\n",
       "      <td>02:00</td>\n",
       "      <td>2020</td>\n",
       "      <td>08</td>\n",
       "      <td>03</td>\n",
       "    </tr>\n",
       "    <tr>\n",
       "      <th>3</th>\n",
       "      <td>15003-2020-07-27T13:00:00+02:00</td>\n",
       "      <td>27/07/2020</td>\n",
       "      <td>10</td>\n",
       "      <td>Bærum</td>\n",
       "      <td>150</td>\n",
       "      <td>15003</td>\n",
       "      <td>13:00:00</td>\n",
       "      <td>02:00</td>\n",
       "      <td>2020</td>\n",
       "      <td>07</td>\n",
       "      <td>27</td>\n",
       "    </tr>\n",
       "    <tr>\n",
       "      <th>4</th>\n",
       "      <td>15002-2020-08-27T07:15:00+02:00</td>\n",
       "      <td>27/08/2020</td>\n",
       "      <td>10</td>\n",
       "      <td>Bærum</td>\n",
       "      <td>150</td>\n",
       "      <td>15002</td>\n",
       "      <td>07:15:00</td>\n",
       "      <td>02:00</td>\n",
       "      <td>2020</td>\n",
       "      <td>08</td>\n",
       "      <td>27</td>\n",
       "    </tr>\n",
       "  </tbody>\n",
       "</table>\n",
       "</div>"
      ],
      "text/plain": [
       "                             TurId        Dato  Passasjerer_Ombord Kommune  \\\n",
       "0  15006-2020-08-10T10:24:00+02:00  10/08/2020                   5   Bærum   \n",
       "1  15002-2020-08-15T12:54:00+02:00  15/08/2020                   5   Bærum   \n",
       "2  15004-2020-08-03T09:54:00+02:00  03/08/2020                   6   Bærum   \n",
       "3  15003-2020-07-27T13:00:00+02:00  27/07/2020                  10   Bærum   \n",
       "4  15002-2020-08-27T07:15:00+02:00  27/08/2020                  10   Bærum   \n",
       "\n",
       "  Linjenavn LinjeId Klokkeslett Tidsone    År Måned Dag  \n",
       "0       150   15006    10:24:00   02:00  2020    08  10  \n",
       "1       150   15002    12:54:00   02:00  2020    08  15  \n",
       "2       150   15004    09:54:00   02:00  2020    08  03  \n",
       "3       150   15003    13:00:00   02:00  2020    07  27  \n",
       "4       150   15002    07:15:00   02:00  2020    08  27  "
      ]
     },
     "execution_count": 163,
     "metadata": {},
     "output_type": "execute_result"
    }
   ],
   "source": [
    "data.head()"
   ]
  },
  {
   "cell_type": "code",
   "execution_count": 148,
   "metadata": {},
   "outputs": [
    {
     "data": {
      "text/html": [
       "<div>\n",
       "<style scoped>\n",
       "    .dataframe tbody tr th:only-of-type {\n",
       "        vertical-align: middle;\n",
       "    }\n",
       "\n",
       "    .dataframe tbody tr th {\n",
       "        vertical-align: top;\n",
       "    }\n",
       "\n",
       "    .dataframe thead th {\n",
       "        text-align: right;\n",
       "    }\n",
       "</style>\n",
       "<table border=\"1\" class=\"dataframe\">\n",
       "  <thead>\n",
       "    <tr style=\"text-align: right;\">\n",
       "      <th></th>\n",
       "      <th>TurId</th>\n",
       "      <th>Dato</th>\n",
       "      <th>Passasjerer_Ombord</th>\n",
       "      <th>Kommune</th>\n",
       "      <th>Linjenavn</th>\n",
       "      <th>Tidspunkt_Faktisk_Ankomst_Holdeplass_Fra</th>\n",
       "      <th>Tidspunkt_Faktisk_Avgang_Holdeplass_Fra</th>\n",
       "      <th>Tidspunkt_Planlagt_Ankomst_Holdeplass_Fra</th>\n",
       "      <th>Tidspunkt_Planlagt_Avgang_Holdeplass_Fra</th>\n",
       "      <th>Kjøretøy_Kapasitet</th>\n",
       "      <th>Passasjerer_Ombord</th>\n",
       "      <th>LinjeId</th>\n",
       "      <th>Klokkeslett</th>\n",
       "      <th>Tidsone</th>\n",
       "      <th>År</th>\n",
       "      <th>Måned</th>\n",
       "      <th>Dag</th>\n",
       "    </tr>\n",
       "  </thead>\n",
       "  <tbody>\n",
       "    <tr>\n",
       "      <th>895</th>\n",
       "      <td>10001-2020-08-02T08:00:00+02:00</td>\n",
       "      <td>02/08/2020</td>\n",
       "      <td>3</td>\n",
       "      <td>Lillestrøm</td>\n",
       "      <td>100</td>\n",
       "      <td>08:55:00</td>\n",
       "      <td>08:55:27</td>\n",
       "      <td>08:53:00</td>\n",
       "      <td>08:53:00</td>\n",
       "      <td>151</td>\n",
       "      <td>3</td>\n",
       "      <td>10001</td>\n",
       "      <td>08:00:00</td>\n",
       "      <td>02:00</td>\n",
       "      <td>2020</td>\n",
       "      <td>08</td>\n",
       "      <td>02</td>\n",
       "    </tr>\n",
       "    <tr>\n",
       "      <th>2507</th>\n",
       "      <td>10001-2020-08-09T18:10:00+02:00</td>\n",
       "      <td>09/08/2020</td>\n",
       "      <td>-8</td>\n",
       "      <td>Lillestrøm</td>\n",
       "      <td>100</td>\n",
       "      <td>18:53:56</td>\n",
       "      <td>18:54:02</td>\n",
       "      <td>18:51:00</td>\n",
       "      <td>18:51:00</td>\n",
       "      <td>151</td>\n",
       "      <td>-8</td>\n",
       "      <td>10001</td>\n",
       "      <td>18:10:00</td>\n",
       "      <td>02:00</td>\n",
       "      <td>2020</td>\n",
       "      <td>08</td>\n",
       "      <td>09</td>\n",
       "    </tr>\n",
       "    <tr>\n",
       "      <th>5670</th>\n",
       "      <td>10001-2020-06-26T14:50:00+02:00</td>\n",
       "      <td>26/06/2020</td>\n",
       "      <td>12</td>\n",
       "      <td>Lillestrøm</td>\n",
       "      <td>100</td>\n",
       "      <td>15:58:11</td>\n",
       "      <td>15:59:01</td>\n",
       "      <td>15:43:00</td>\n",
       "      <td>15:43:00</td>\n",
       "      <td>151</td>\n",
       "      <td>12</td>\n",
       "      <td>10001</td>\n",
       "      <td>14:50:00</td>\n",
       "      <td>02:00</td>\n",
       "      <td>2020</td>\n",
       "      <td>06</td>\n",
       "      <td>26</td>\n",
       "    </tr>\n",
       "    <tr>\n",
       "      <th>689</th>\n",
       "      <td>10001-2020-08-30T18:10:00+02:00</td>\n",
       "      <td>30/08/2020</td>\n",
       "      <td>0</td>\n",
       "      <td>Lillestrøm</td>\n",
       "      <td>100</td>\n",
       "      <td>19:05:55</td>\n",
       "      <td>19:06:01</td>\n",
       "      <td>19:04:00</td>\n",
       "      <td>19:04:00</td>\n",
       "      <td>151</td>\n",
       "      <td>0</td>\n",
       "      <td>10001</td>\n",
       "      <td>18:10:00</td>\n",
       "      <td>02:00</td>\n",
       "      <td>2020</td>\n",
       "      <td>08</td>\n",
       "      <td>30</td>\n",
       "    </tr>\n",
       "    <tr>\n",
       "      <th>162</th>\n",
       "      <td>10001-2020-07-23T16:50:00+02:00</td>\n",
       "      <td>23/07/2020</td>\n",
       "      <td>24</td>\n",
       "      <td>Alna</td>\n",
       "      <td>100</td>\n",
       "      <td>17:05:15</td>\n",
       "      <td>17:05:23</td>\n",
       "      <td>17:05:00</td>\n",
       "      <td>17:05:00</td>\n",
       "      <td>151</td>\n",
       "      <td>24</td>\n",
       "      <td>10001</td>\n",
       "      <td>16:50:00</td>\n",
       "      <td>02:00</td>\n",
       "      <td>2020</td>\n",
       "      <td>07</td>\n",
       "      <td>23</td>\n",
       "    </tr>\n",
       "    <tr>\n",
       "      <th>...</th>\n",
       "      <td>...</td>\n",
       "      <td>...</td>\n",
       "      <td>...</td>\n",
       "      <td>...</td>\n",
       "      <td>...</td>\n",
       "      <td>...</td>\n",
       "      <td>...</td>\n",
       "      <td>...</td>\n",
       "      <td>...</td>\n",
       "      <td>...</td>\n",
       "      <td>...</td>\n",
       "      <td>...</td>\n",
       "      <td>...</td>\n",
       "      <td>...</td>\n",
       "      <td>...</td>\n",
       "      <td>...</td>\n",
       "      <td>...</td>\n",
       "    </tr>\n",
       "    <tr>\n",
       "      <th>5481</th>\n",
       "      <td>9113-2020-07-12T18:59:00+02:00</td>\n",
       "      <td>12/07/2020</td>\n",
       "      <td>0</td>\n",
       "      <td>Sagene</td>\n",
       "      <td>91</td>\n",
       "      <td>19:02:16</td>\n",
       "      <td>19:02:50</td>\n",
       "      <td>19:01:00</td>\n",
       "      <td>19:01:00</td>\n",
       "      <td>106</td>\n",
       "      <td>0</td>\n",
       "      <td>9113</td>\n",
       "      <td>18:59:00</td>\n",
       "      <td>02:00</td>\n",
       "      <td>2020</td>\n",
       "      <td>07</td>\n",
       "      <td>12</td>\n",
       "    </tr>\n",
       "    <tr>\n",
       "      <th>5491</th>\n",
       "      <td>9113-2020-07-12T14:09:00+02:00</td>\n",
       "      <td>12/07/2020</td>\n",
       "      <td>0</td>\n",
       "      <td>Grünerløkka</td>\n",
       "      <td>91</td>\n",
       "      <td>14:20:39</td>\n",
       "      <td>14:21:12</td>\n",
       "      <td>14:20:00</td>\n",
       "      <td>14:20:00</td>\n",
       "      <td>106</td>\n",
       "      <td>0</td>\n",
       "      <td>9113</td>\n",
       "      <td>14:09:00</td>\n",
       "      <td>02:00</td>\n",
       "      <td>2020</td>\n",
       "      <td>07</td>\n",
       "      <td>12</td>\n",
       "    </tr>\n",
       "    <tr>\n",
       "      <th>1503</th>\n",
       "      <td>9401-2020-07-29T15:16:00+02:00</td>\n",
       "      <td>29/07/2020</td>\n",
       "      <td>1</td>\n",
       "      <td>Nordstrand</td>\n",
       "      <td>4B</td>\n",
       "      <td>15:18:35</td>\n",
       "      <td>15:19:17</td>\n",
       "      <td>15:18:00</td>\n",
       "      <td>15:18:00</td>\n",
       "      <td>106</td>\n",
       "      <td>1</td>\n",
       "      <td>9401</td>\n",
       "      <td>15:16:00</td>\n",
       "      <td>02:00</td>\n",
       "      <td>2020</td>\n",
       "      <td>07</td>\n",
       "      <td>29</td>\n",
       "    </tr>\n",
       "    <tr>\n",
       "      <th>5163</th>\n",
       "      <td>9402-2020-07-31T22:21:00+02:00</td>\n",
       "      <td>31/07/2020</td>\n",
       "      <td>2</td>\n",
       "      <td>Nordstrand</td>\n",
       "      <td>4B</td>\n",
       "      <td>22:15:01</td>\n",
       "      <td>22:22:29</td>\n",
       "      <td>22:21:00</td>\n",
       "      <td>22:21:00</td>\n",
       "      <td>106</td>\n",
       "      <td>2</td>\n",
       "      <td>9402</td>\n",
       "      <td>22:21:00</td>\n",
       "      <td>02:00</td>\n",
       "      <td>2020</td>\n",
       "      <td>07</td>\n",
       "      <td>31</td>\n",
       "    </tr>\n",
       "    <tr>\n",
       "      <th>4046</th>\n",
       "      <td>9402-2020-07-31T12:21:00+02:00</td>\n",
       "      <td>31/07/2020</td>\n",
       "      <td>19</td>\n",
       "      <td>Nordstrand</td>\n",
       "      <td>4B</td>\n",
       "      <td>12:15:01</td>\n",
       "      <td>12:25:05</td>\n",
       "      <td>12:21:00</td>\n",
       "      <td>12:21:00</td>\n",
       "      <td>106</td>\n",
       "      <td>19</td>\n",
       "      <td>9402</td>\n",
       "      <td>12:21:00</td>\n",
       "      <td>02:00</td>\n",
       "      <td>2020</td>\n",
       "      <td>07</td>\n",
       "      <td>31</td>\n",
       "    </tr>\n",
       "  </tbody>\n",
       "</table>\n",
       "<p>6000 rows × 17 columns</p>\n",
       "</div>"
      ],
      "text/plain": [
       "                                TurId        Dato  Passasjerer_Ombord  \\\n",
       "895   10001-2020-08-02T08:00:00+02:00  02/08/2020                   3   \n",
       "2507  10001-2020-08-09T18:10:00+02:00  09/08/2020                  -8   \n",
       "5670  10001-2020-06-26T14:50:00+02:00  26/06/2020                  12   \n",
       "689   10001-2020-08-30T18:10:00+02:00  30/08/2020                   0   \n",
       "162   10001-2020-07-23T16:50:00+02:00  23/07/2020                  24   \n",
       "...                               ...         ...                 ...   \n",
       "5481   9113-2020-07-12T18:59:00+02:00  12/07/2020                   0   \n",
       "5491   9113-2020-07-12T14:09:00+02:00  12/07/2020                   0   \n",
       "1503   9401-2020-07-29T15:16:00+02:00  29/07/2020                   1   \n",
       "5163   9402-2020-07-31T22:21:00+02:00  31/07/2020                   2   \n",
       "4046   9402-2020-07-31T12:21:00+02:00  31/07/2020                  19   \n",
       "\n",
       "          Kommune Linjenavn Tidspunkt_Faktisk_Ankomst_Holdeplass_Fra  \\\n",
       "895    Lillestrøm       100                                 08:55:00   \n",
       "2507   Lillestrøm       100                                 18:53:56   \n",
       "5670   Lillestrøm       100                                 15:58:11   \n",
       "689    Lillestrøm       100                                 19:05:55   \n",
       "162          Alna       100                                 17:05:15   \n",
       "...           ...       ...                                      ...   \n",
       "5481       Sagene        91                                 19:02:16   \n",
       "5491  Grünerløkka        91                                 14:20:39   \n",
       "1503   Nordstrand        4B                                 15:18:35   \n",
       "5163   Nordstrand        4B                                 22:15:01   \n",
       "4046   Nordstrand        4B                                 12:15:01   \n",
       "\n",
       "     Tidspunkt_Faktisk_Avgang_Holdeplass_Fra  \\\n",
       "895                                 08:55:27   \n",
       "2507                                18:54:02   \n",
       "5670                                15:59:01   \n",
       "689                                 19:06:01   \n",
       "162                                 17:05:23   \n",
       "...                                      ...   \n",
       "5481                                19:02:50   \n",
       "5491                                14:21:12   \n",
       "1503                                15:19:17   \n",
       "5163                                22:22:29   \n",
       "4046                                12:25:05   \n",
       "\n",
       "     Tidspunkt_Planlagt_Ankomst_Holdeplass_Fra  \\\n",
       "895                                   08:53:00   \n",
       "2507                                  18:51:00   \n",
       "5670                                  15:43:00   \n",
       "689                                   19:04:00   \n",
       "162                                   17:05:00   \n",
       "...                                        ...   \n",
       "5481                                  19:01:00   \n",
       "5491                                  14:20:00   \n",
       "1503                                  15:18:00   \n",
       "5163                                  22:21:00   \n",
       "4046                                  12:21:00   \n",
       "\n",
       "     Tidspunkt_Planlagt_Avgang_Holdeplass_Fra  Kjøretøy_Kapasitet  \\\n",
       "895                                  08:53:00                 151   \n",
       "2507                                 18:51:00                 151   \n",
       "5670                                 15:43:00                 151   \n",
       "689                                  19:04:00                 151   \n",
       "162                                  17:05:00                 151   \n",
       "...                                       ...                 ...   \n",
       "5481                                 19:01:00                 106   \n",
       "5491                                 14:20:00                 106   \n",
       "1503                                 15:18:00                 106   \n",
       "5163                                 22:21:00                 106   \n",
       "4046                                 12:21:00                 106   \n",
       "\n",
       "      Passasjerer_Ombord LinjeId Klokkeslett Tidsone    År Måned Dag  \n",
       "895                    3   10001    08:00:00   02:00  2020    08  02  \n",
       "2507                  -8   10001    18:10:00   02:00  2020    08  09  \n",
       "5670                  12   10001    14:50:00   02:00  2020    06  26  \n",
       "689                    0   10001    18:10:00   02:00  2020    08  30  \n",
       "162                   24   10001    16:50:00   02:00  2020    07  23  \n",
       "...                  ...     ...         ...     ...   ...   ...  ..  \n",
       "5481                   0    9113    18:59:00   02:00  2020    07  12  \n",
       "5491                   0    9113    14:09:00   02:00  2020    07  12  \n",
       "1503                   1    9401    15:16:00   02:00  2020    07  29  \n",
       "5163                   2    9402    22:21:00   02:00  2020    07  31  \n",
       "4046                  19    9402    12:21:00   02:00  2020    07  31  \n",
       "\n",
       "[6000 rows x 17 columns]"
      ]
     },
     "execution_count": 148,
     "metadata": {},
     "output_type": "execute_result"
    }
   ],
   "source": [
    "data.sort_values(by=['LinjeId'])"
   ]
  },
  {
   "cell_type": "code",
   "execution_count": null,
   "metadata": {},
   "outputs": [],
   "source": []
  }
 ],
 "metadata": {
  "kernelspec": {
   "display_name": "Python 3",
   "language": "python",
   "name": "python3"
  },
  "language_info": {
   "codemirror_mode": {
    "name": "ipython",
    "version": 3
   },
   "file_extension": ".py",
   "mimetype": "text/x-python",
   "name": "python",
   "nbconvert_exporter": "python",
   "pygments_lexer": "ipython3",
   "version": "3.8.3"
  }
 },
 "nbformat": 4,
 "nbformat_minor": 4
}
