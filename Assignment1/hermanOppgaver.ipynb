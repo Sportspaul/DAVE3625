{
 "cells": [
  {
   "cell_type": "code",
   "execution_count": 2,
   "metadata": {},
   "outputs": [],
   "source": [
    "import pandas as pd"
   ]
  },
  {
   "cell_type": "code",
   "execution_count": 3,
   "metadata": {},
   "outputs": [],
   "source": [
    "from matplotlib import pyplot as plt"
   ]
  },
  {
   "cell_type": "code",
   "execution_count": 4,
   "metadata": {},
   "outputs": [],
   "source": [
    "from datetime import datetime, timedelta as dt"
   ]
  },
  {
   "cell_type": "code",
   "execution_count": 5,
   "metadata": {},
   "outputs": [],
   "source": [
    "#Leser inn csv filen, og legger den i en variabel\n",
    "ruterData = pd.read_csv(\"Ruter_data.csv\", sep=';')"
   ]
  },
  {
   "cell_type": "code",
   "execution_count": 6,
   "metadata": {},
   "outputs": [],
   "source": [
    "#Git alle kolonner mer lesbare navn\n",
    "ruterData = ruterData.rename(columns={'Tidspunkt_Faktisk_Ankomst_Holdeplass_Fra': 'Faktisk_Ankomst', 'Tidspunkt_Faktisk_Avgang_Holdeplass_Fra': 'Faktisk_Avgang','Tidspunkt_Planlagt_Ankomst_Holdeplass_Fra': 'Planlagt_Ankomst', 'Tidspunkt_Planlagt_Avgang_Holdeplass_Fra': 'Planlagt_Avgang'})"
   ]
  },
  {
   "cell_type": "code",
   "execution_count": 7,
   "metadata": {},
   "outputs": [],
   "source": [
    "#Lager en ny DataFrame med de aktuelle verdiene\n",
    "ruterData = ruterData.filter(items=['Faktisk_Ankomst','Planlagt_Ankomst'])"
   ]
  },
  {
   "cell_type": "code",
   "execution_count": 8,
   "metadata": {},
   "outputs": [
    {
     "data": {
      "text/html": [
       "<div>\n",
       "<style scoped>\n",
       "    .dataframe tbody tr th:only-of-type {\n",
       "        vertical-align: middle;\n",
       "    }\n",
       "\n",
       "    .dataframe tbody tr th {\n",
       "        vertical-align: top;\n",
       "    }\n",
       "\n",
       "    .dataframe thead th {\n",
       "        text-align: right;\n",
       "    }\n",
       "</style>\n",
       "<table border=\"1\" class=\"dataframe\">\n",
       "  <thead>\n",
       "    <tr style=\"text-align: right;\">\n",
       "      <th></th>\n",
       "      <th>Faktisk_Ankomst</th>\n",
       "      <th>Planlagt_Ankomst</th>\n",
       "    </tr>\n",
       "  </thead>\n",
       "  <tbody>\n",
       "    <tr>\n",
       "      <th>0</th>\n",
       "      <td>10:53:53</td>\n",
       "      <td>10:53:00</td>\n",
       "    </tr>\n",
       "    <tr>\n",
       "      <th>1</th>\n",
       "      <td>13:12:20</td>\n",
       "      <td>13:12:00</td>\n",
       "    </tr>\n",
       "    <tr>\n",
       "      <th>2</th>\n",
       "      <td>10:18:56</td>\n",
       "      <td>10:19:00</td>\n",
       "    </tr>\n",
       "    <tr>\n",
       "      <th>3</th>\n",
       "      <td>13:52:04</td>\n",
       "      <td>13:51:00</td>\n",
       "    </tr>\n",
       "    <tr>\n",
       "      <th>4</th>\n",
       "      <td>07:34:13</td>\n",
       "      <td>07:33:00</td>\n",
       "    </tr>\n",
       "  </tbody>\n",
       "</table>\n",
       "</div>"
      ],
      "text/plain": [
       "  Faktisk_Ankomst Planlagt_Ankomst\n",
       "0        10:53:53         10:53:00\n",
       "1        13:12:20         13:12:00\n",
       "2        10:18:56         10:19:00\n",
       "3        13:52:04         13:51:00\n",
       "4        07:34:13         07:33:00"
      ]
     },
     "execution_count": 8,
     "metadata": {},
     "output_type": "execute_result"
    }
   ],
   "source": [
    "#Fjerne alle rader med bare : som verdi (tomme)\n",
    "ruterData = ruterData[ruterData.Faktisk_Ankomst != ':']\n",
    "ruterData.head()"
   ]
  },
  {
   "cell_type": "code",
   "execution_count": 1620,
   "metadata": {},
   "outputs": [],
   "source": [
    "#Gjør om fra datetime format til timer, minutter og sekunder\n",
    "ruterData[['Faktisk_Timer','Faktisk_Minutter','Faktisk_Sekunder']] = ruterData['Faktisk_Ankomst'].str.split(':',expand=True)\n",
    "ruterData[['Planlagt_Timer','Planlagt_Minutter','Planlagt_Sekunder']] = ruterData['Planlagt_Ankomst'].str.split(':',expand=True)"
   ]
  },
  {
   "cell_type": "code",
   "execution_count": 1621,
   "metadata": {
    "scrolled": true
   },
   "outputs": [],
   "source": [
    "#Gjør om string verdiene til int64\n",
    "ruterData[\"Planlagt_Timer\"] = pd.to_numeric(ruterData[\"Planlagt_Timer\"])\n",
    "ruterData[\"Planlagt_Timer\"] = ruterData[\"Planlagt_Timer\"].mod(24)\n",
    "ruterData[\"Faktisk_Timer\"] = panda.to_numeric(ruterData[\"Faktisk_Timer\"])\n",
    "ruterData[\"Faktisk_Timer\"] = ruterData[\"Faktisk_Timer\"].mod(24)"
   ]
  },
  {
   "cell_type": "code",
   "execution_count": 1622,
   "metadata": {},
   "outputs": [],
   "source": [
    "#Samler timer, minutter og sekunder inn i Faktisk_Ankomst kolonnen\n",
    "kolonner = ['Faktisk_Timer','Faktisk_Minutter', 'Faktisk_Sekunder']\n",
    "ruterData['Faktisk_Ankomst'] = ruterData[kolonner].apply(lambda row: ':'.join(row.values.astype(str)), axis=1)\n",
    "kolonner = ['Planlagt_Timer','Planlagt_Minutter', 'Planlagt_Sekunder']\n",
    "ruterData['Planlagt_Ankomst'] = ruterData[kolonner].apply(lambda row: ':'.join(row.values.astype(str)), axis=1)"
   ]
  },
  {
   "cell_type": "code",
   "execution_count": 1623,
   "metadata": {},
   "outputs": [],
   "source": [
    "#Lager en ny DataFrame med de aktuelle verdiene\n",
    "ruterData = ruterData.filter(items=['Faktisk_Ankomst','Planlagt_Ankomst', 'Planlagt_Timer'])\n",
    "ruteinterData = ruterData.rename(columns={'Planlagt_Timer': 'Timer'})"
   ]
  },
  {
   "cell_type": "code",
   "execution_count": 1624,
   "metadata": {},
   "outputs": [],
   "source": [
    "#Konverterer fra String til DateTime, uten dato\n",
    "ruterData[\"Faktisk_Ankomst\"] = ruterData[\"Faktisk_Ankomst\"].astype(\"datetime64\")\n",
    "ruterData[\"Planlagt_Ankomst\"] = ruterData[\"Planlagt_Ankomst\"].astype(\"datetime64\")"
   ]
  },
  {
   "cell_type": "code",
   "execution_count": 1625,
   "metadata": {},
   "outputs": [],
   "source": [
    "#ruterData = ruterData[ruterData.Faktisk_Ankomst > ruterData.Planlagt_Ankomst]"
   ]
  },
  {
   "cell_type": "code",
   "execution_count": 1626,
   "metadata": {},
   "outputs": [],
   "source": [
    "ruterData['Differanse'] = (ruterData.Faktisk_Ankomst - ruterData.Planlagt_Ankomst)"
   ]
  },
  {
   "cell_type": "code",
   "execution_count": 1627,
   "metadata": {},
   "outputs": [],
   "source": [
    "#ruterData['Differanse'] = ruterData['Differanse'].astype(str).str[7:15]\n",
    "ruterData['Differanse'] = ruterData['Differanse'].dt.total_seconds()"
   ]
  },
  {
   "cell_type": "code",
   "execution_count": 1628,
   "metadata": {},
   "outputs": [],
   "source": [
    "ruterData = ruterData.filter(items=['Timer','Differanse'])"
   ]
  },
  {
   "cell_type": "code",
   "execution_count": 1629,
   "metadata": {
    "scrolled": true
   },
   "outputs": [],
   "source": [
    "import seaborn as sns"
   ]
  },
  {
   "cell_type": "code",
   "execution_count": 1630,
   "metadata": {},
   "outputs": [
    {
     "data": {
      "text/html": [
       "<div>\n",
       "<style scoped>\n",
       "    .dataframe tbody tr th:only-of-type {\n",
       "        vertical-align: middle;\n",
       "    }\n",
       "\n",
       "    .dataframe tbody tr th {\n",
       "        vertical-align: top;\n",
       "    }\n",
       "\n",
       "    .dataframe thead th {\n",
       "        text-align: right;\n",
       "    }\n",
       "</style>\n",
       "<table border=\"1\" class=\"dataframe\">\n",
       "  <thead>\n",
       "    <tr style=\"text-align: right;\">\n",
       "      <th></th>\n",
       "      <th>Timer</th>\n",
       "      <th>Differanse</th>\n",
       "    </tr>\n",
       "  </thead>\n",
       "  <tbody>\n",
       "    <tr>\n",
       "      <th>2379</th>\n",
       "      <td>18</td>\n",
       "      <td>-2,585</td>\n",
       "    </tr>\n",
       "    <tr>\n",
       "      <th>3269</th>\n",
       "      <td>18</td>\n",
       "      <td>-2,523</td>\n",
       "    </tr>\n",
       "    <tr>\n",
       "      <th>2255</th>\n",
       "      <td>18</td>\n",
       "      <td>-2,522</td>\n",
       "    </tr>\n",
       "    <tr>\n",
       "      <th>3941</th>\n",
       "      <td>16</td>\n",
       "      <td>-2,479</td>\n",
       "    </tr>\n",
       "    <tr>\n",
       "      <th>187</th>\n",
       "      <td>18</td>\n",
       "      <td>-2,418</td>\n",
       "    </tr>\n",
       "    <tr>\n",
       "      <th>...</th>\n",
       "      <td>...</td>\n",
       "      <td>...</td>\n",
       "    </tr>\n",
       "    <tr>\n",
       "      <th>2213</th>\n",
       "      <td>16</td>\n",
       "      <td>3,130</td>\n",
       "    </tr>\n",
       "    <tr>\n",
       "      <th>3484</th>\n",
       "      <td>17</td>\n",
       "      <td>3,537</td>\n",
       "    </tr>\n",
       "    <tr>\n",
       "      <th>4860</th>\n",
       "      <td>15</td>\n",
       "      <td>7,300</td>\n",
       "    </tr>\n",
       "    <tr>\n",
       "      <th>3345</th>\n",
       "      <td>16</td>\n",
       "      <td>9,211</td>\n",
       "    </tr>\n",
       "    <tr>\n",
       "      <th>491</th>\n",
       "      <td>0</td>\n",
       "      <td>86,241</td>\n",
       "    </tr>\n",
       "  </tbody>\n",
       "</table>\n",
       "<p>5950 rows × 2 columns</p>\n",
       "</div>"
      ],
      "text/plain": [
       "      Timer  Differanse\n",
       "2379     18      -2,585\n",
       "3269     18      -2,523\n",
       "2255     18      -2,522\n",
       "3941     16      -2,479\n",
       "187      18      -2,418\n",
       "...     ...         ...\n",
       "2213     16       3,130\n",
       "3484     17       3,537\n",
       "4860     15       7,300\n",
       "3345     16       9,211\n",
       "491       0      86,241\n",
       "\n",
       "[5950 rows x 2 columns]"
      ]
     },
     "execution_count": 1630,
     "metadata": {},
     "output_type": "execute_result"
    }
   ],
   "source": [
    "ruterData.sort_values(by=['Differanse'])"
   ]
  },
  {
   "cell_type": "code",
   "execution_count": 1631,
   "metadata": {},
   "outputs": [],
   "source": [
    "data = ruterData.groupby(ruterData['Timer']).mean()"
   ]
  },
  {
   "cell_type": "code",
   "execution_count": 1632,
   "metadata": {},
   "outputs": [],
   "source": [
    "threshold_max = ruterData[\"Differanse\"].quantile(0.99)\n",
    "threshold_min = ruterData[\"Differanse\"].quantile(0.01)\n",
    "ruterDataDag = ruterData[(ruterData[\"Differanse\"] < threshold_max) & (ruterData[\"Differanse\"] > threshold_min) & (ruterData['Timer'] >= 6)]\n",
    "ruterDataNatt = ruterData[(ruterData[\"Differanse\"] < threshold_max) & (ruterData[\"Differanse\"] > threshold_min) & (ruterData['Timer'] <= 5)]"
   ]
  },
  {
   "cell_type": "code",
   "execution_count": 1633,
   "metadata": {},
   "outputs": [
    {
     "data": {
      "text/plain": [
       "Text(0, 0.5, 'Forsinkelse (Sekunder)')"
      ]
     },
     "execution_count": 1633,
     "metadata": {},
     "output_type": "execute_result"
    },
    {
     "data": {
      "image/png": "[encoded data removed]",
      "text/plain": [
       "<Figure size 432x288 with 1 Axes>"
      ]
     },
     "metadata": {
      "needs_background": "light"
     },
     "output_type": "display_data"
    }
   ],
   "source": [
    "ruterDataDag = ruterDataDag.groupby(ruterDataDag.Timer).mean()\n",
    "forsinkelseGrafDag = ruterDataDag.plot.line(title=\"Gjennomsnittlig forsinkelse mellom 06:00 og 23:00\")\n",
    "forsinkelseGrafDag.set_xlabel(\"Timer\")\n",
    "forsinkelseGrafDag.set_ylabel(\"Forsinkelse (Sekunder)\")"
   ]
  },
  {
   "cell_type": "code",
   "execution_count": 1634,
   "metadata": {},
   "outputs": [
    {
     "data": {
      "text/plain": [
       "Text(0, 0.5, 'Forsinkelse (Sekunder)')"
      ]
     },
     "execution_count": 1634,
     "metadata": {},
     "output_type": "execute_result"
    },
    {
     "data": {
      "image/png": "[encoded data removed]",
      "text/plain": [
       "<Figure size 432x288 with 1 Axes>"
      ]
     },
     "metadata": {
      "needs_background": "light"
     },
     "output_type": "display_data"
    }
   ],
   "source": [
    "ruterDataNatt = ruterDataNatt.groupby(ruterDataNatt.Timer).mean()\n",
    "forsinkelseGrafNatt = ruterDataNatt.plot.line(title=\"Gjennomsnittlig forsinkelse mellom 00:00 og 05:00\")\n",
    "forsinkelseGrafNatt.set_xlabel(\"Timer\")\n",
    "forsinkelseGrafNatt.set_ylabel(\"Forsinkelse (Sekunder)\")"
   ]
  },
  {
   "cell_type": "code",
   "execution_count": null,
   "metadata": {},
   "outputs": [],
   "source": []
  }
 ],
 "metadata": {
  "kernelspec": {
   "display_name": "Python 3",
   "language": "python",
   "name": "python3"
  },
  "language_info": {
   "codemirror_mode": {
    "name": "ipython",
    "version": 3
   },
   "file_extension": ".py",
   "mimetype": "text/x-python",
   "name": "python",
   "nbconvert_exporter": "python",
   "pygments_lexer": "ipython3",
   "version": "3.8.5"
  }
 },
 "nbformat": 4,
 "nbformat_minor": 4
}
